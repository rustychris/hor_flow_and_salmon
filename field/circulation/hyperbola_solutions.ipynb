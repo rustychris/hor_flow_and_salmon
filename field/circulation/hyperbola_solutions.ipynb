{
 "cells": [
  {
   "cell_type": "code",
   "execution_count": 12,
   "metadata": {},
   "outputs": [],
   "source": [
    "from IPython.display import display"
   ]
  },
  {
   "cell_type": "code",
   "execution_count": 1,
   "metadata": {},
   "outputs": [],
   "source": [
    "from sympy import *"
   ]
  },
  {
   "cell_type": "code",
   "execution_count": 2,
   "metadata": {},
   "outputs": [],
   "source": [
    "from sympy.solvers import solve\n",
    "from sympy import Symbol,sqrt"
   ]
  },
  {
   "cell_type": "code",
   "execution_count": 5,
   "metadata": {},
   "outputs": [
    {
     "data": {
      "text/plain": [
       "<function sympy.core.symbol.symbols(names, **args)>"
      ]
     },
     "execution_count": 5,
     "metadata": {},
     "output_type": "execute_result"
    }
   ],
   "source": [
    "symbols"
   ]
  },
  {
   "cell_type": "code",
   "execution_count": 6,
   "metadata": {},
   "outputs": [],
   "source": [
    "# tag location\n",
    "x=Symbol('x')\n",
    "y=Symbol('y')\n",
    "\n",
    "\n",
    "rx1,rx2,rx3,ry1,ry2,ry3=symbols(\"rx_1 rx_2 rx_3 ry_1 ry_2 ry_3\")"
   ]
  },
  {
   "cell_type": "code",
   "execution_count": 14,
   "metadata": {},
   "outputs": [
    {
     "data": {
      "text/plain": [
       "'d1'"
      ]
     },
     "metadata": {},
     "output_type": "display_data"
    },
    {
     "data": {
      "text/latex": [
       "$\\displaystyle \\sqrt{\\left(rx_{1} - x\\right)^{2} + \\left(ry_{1} - y\\right)^{2}}$"
      ],
      "text/plain": [
       "sqrt((rx_1 - x)**2 + (ry_1 - y)**2)"
      ]
     },
     "metadata": {},
     "output_type": "display_data"
    },
    {
     "data": {
      "text/plain": [
       "'d2'"
      ]
     },
     "metadata": {},
     "output_type": "display_data"
    },
    {
     "data": {
      "text/latex": [
       "$\\displaystyle \\sqrt{\\left(rx_{2} - x\\right)^{2} + \\left(ry_{2} - y\\right)^{2}}$"
      ],
      "text/plain": [
       "sqrt((rx_2 - x)**2 + (ry_2 - y)**2)"
      ]
     },
     "metadata": {},
     "output_type": "display_data"
    },
    {
     "data": {
      "text/plain": [
       "'d3'"
      ]
     },
     "metadata": {},
     "output_type": "display_data"
    },
    {
     "data": {
      "text/latex": [
       "$\\displaystyle \\sqrt{\\left(rx_{3} - x\\right)^{2} + \\left(ry_{3} - y\\right)^{2}}$"
      ],
      "text/plain": [
       "sqrt((rx_3 - x)**2 + (ry_3 - y)**2)"
      ]
     },
     "metadata": {},
     "output_type": "display_data"
    }
   ],
   "source": [
    "d1=sqrt( (rx1-x)**2 + (ry1-y)**2 )\n",
    "d2=sqrt( (rx2-x)**2 + (ry2-y)**2 )\n",
    "d3=sqrt( (rx3-x)**2 + (ry3-y)**2 )\n",
    "\n",
    "display('d1')\n",
    "display(d1)\n",
    "display('d2')\n",
    "display(d2)\n",
    "display('d3')\n",
    "display(d3)"
   ]
  },
  {
   "cell_type": "code",
   "execution_count": 15,
   "metadata": {},
   "outputs": [],
   "source": [
    "d12=d2-d1\n",
    "d13=d3-d1\n",
    "d23=d3-d2"
   ]
  },
  {
   "cell_type": "code",
   "execution_count": 17,
   "metadata": {},
   "outputs": [
    {
     "data": {
      "text/latex": [
       "$\\displaystyle - d_{12} - \\sqrt{\\left(rx_{1} - x\\right)^{2} + \\left(ry_{1} - y\\right)^{2}} + \\sqrt{\\left(rx_{2} - x\\right)^{2} + \\left(ry_{2} - y\\right)^{2}}$"
      ],
      "text/plain": [
       "-d12 - sqrt((rx_1 - x)**2 + (ry_1 - y)**2) + sqrt((rx_2 - x)**2 + (ry_2 - y)**2)"
      ]
     },
     "metadata": {},
     "output_type": "display_data"
    },
    {
     "data": {
      "text/latex": [
       "$\\displaystyle - d_{13} - \\sqrt{\\left(rx_{1} - x\\right)^{2} + \\left(ry_{1} - y\\right)^{2}} + \\sqrt{\\left(rx_{3} - x\\right)^{2} + \\left(ry_{3} - y\\right)^{2}}$"
      ],
      "text/plain": [
       "-d13 - sqrt((rx_1 - x)**2 + (ry_1 - y)**2) + sqrt((rx_3 - x)**2 + (ry_3 - y)**2)"
      ]
     },
     "metadata": {},
     "output_type": "display_data"
    },
    {
     "data": {
      "text/latex": [
       "$\\displaystyle - d_{23} - \\sqrt{\\left(rx_{2} - x\\right)^{2} + \\left(ry_{2} - y\\right)^{2}} + \\sqrt{\\left(rx_{3} - x\\right)^{2} + \\left(ry_{3} - y\\right)^{2}}$"
      ],
      "text/plain": [
       "-d23 - sqrt((rx_2 - x)**2 + (ry_2 - y)**2) + sqrt((rx_3 - x)**2 + (ry_3 - y)**2)"
      ]
     },
     "metadata": {},
     "output_type": "display_data"
    },
    {
     "data": {
      "text/latex": [
       "$\\displaystyle d_{12} - d_{13} + d_{23}$"
      ],
      "text/plain": [
       "d12 - d13 + d23"
      ]
     },
     "metadata": {},
     "output_type": "display_data"
    }
   ],
   "source": [
    "dt12,dt13,dt23=symbols('d12 d13 d23')\n",
    "eqs=[ d12-dt12,\n",
    "      d13-dt13,\n",
    "      d23-dt23,\n",
    "      dt12+dt23-dt13 ]\n",
    "for eq in eqs:\n",
    "    display(eq)"
   ]
  },
  {
   "cell_type": "code",
   "execution_count": 27,
   "metadata": {},
   "outputs": [
    {
     "data": {
      "text/latex": [
       "$\\displaystyle - d_{12} - \\sqrt{x^{2} + y^{2}} + \\sqrt{y^{2} + \\left(1 - x\\right)^{2}}$"
      ],
      "text/plain": [
       "-d12 - sqrt(x**2 + y**2) + sqrt(y**2 + (1 - x)**2)"
      ]
     },
     "metadata": {},
     "output_type": "display_data"
    },
    {
     "data": {
      "text/latex": [
       "$\\displaystyle - d_{13} - \\sqrt{x^{2} + y^{2}} + \\sqrt{\\left(rx_{3} - x\\right)^{2} + \\left(ry_{3} - y\\right)^{2}}$"
      ],
      "text/plain": [
       "-d13 - sqrt(x**2 + y**2) + sqrt((rx_3 - x)**2 + (ry_3 - y)**2)"
      ]
     },
     "metadata": {},
     "output_type": "display_data"
    }
   ],
   "source": [
    "# Through a rotation and scaling, can make some of those coefficients 0 or \n",
    "# 1\n",
    "tran_eqs=[ eq.subs('ry_1',0).subs('ry_2',0).subs('rx_1',0).subs('rx_2',1)\n",
    "           for eq in eqs]\n",
    "\n",
    "# For the moment, just look at the first 2 equations, which should be sufficient\n",
    "tran_eqs=tran_eqs[:2]\n",
    "for eq in tran_eqs:\n",
    "    display(eq)"
   ]
  },
  {
   "cell_type": "code",
   "execution_count": 42,
   "metadata": {},
   "outputs": [
    {
     "data": {
      "text/latex": [
       "$\\displaystyle \\frac{d_{12}^{2} - d_{12} \\sqrt{- \\left(d_{12} - 1\\right) \\left(d_{12} + 1\\right) \\left(- d_{12}^{2} + 4 y^{2} + 1\\right)} - 1}{2 \\left(d_{12}^{2} - 1\\right)}$"
      ],
      "text/plain": [
       "(d12**2 - d12*sqrt(-(d12 - 1)*(d12 + 1)*(-d12**2 + 4*y**2 + 1)) - 1)/(2*(d12**2 - 1))"
      ]
     },
     "metadata": {},
     "output_type": "display_data"
    },
    {
     "data": {
      "text/latex": [
       "$\\displaystyle \\frac{d_{12}^{2} + d_{12} \\sqrt{- \\left(d_{12} - 1\\right) \\left(d_{12} + 1\\right) \\left(- d_{12}^{2} + 4 y^{2} + 1\\right)} - 1}{2 \\left(d_{12}^{2} - 1\\right)}$"
      ],
      "text/plain": [
       "(d12**2 + d12*sqrt(-(d12 - 1)*(d12 + 1)*(-d12**2 + 4*y**2 + 1)) - 1)/(2*(d12**2 - 1))"
      ]
     },
     "metadata": {},
     "output_type": "display_data"
    }
   ],
   "source": [
    "res=solve(tran_eqs[0],[x],set=True) # This does yield a pair of solutions.\n",
    "x_solns=[s[0] for s in list(res[1])]\n",
    "for x_soln in x_solns:\n",
    "    display(x_soln) "
   ]
  },
  {
   "cell_type": "code",
   "execution_count": 39,
   "metadata": {},
   "outputs": [],
   "source": [
    "# solve(tran_eqs[1].subs(x,x_solns[0]),y) # this never finishes"
   ]
  },
  {
   "cell_type": "code",
   "execution_count": 40,
   "metadata": {},
   "outputs": [],
   "source": [
    "# result=solve(tran_eqs,[x,y]) # this never finishes..."
   ]
  },
  {
   "cell_type": "code",
   "execution_count": null,
   "metadata": {},
   "outputs": [],
   "source": [
    "tran_eqs[0"
   ]
  },
  {
   "cell_type": "markdown",
   "metadata": {},
   "source": [
    "TOA Approach of Mathias et al\n",
    "==\n"
   ]
  },
  {
   "cell_type": "code",
   "execution_count": 49,
   "metadata": {},
   "outputs": [],
   "source": [
    "p,p1,p2,p3,pk,c,tk,t = symbols(\"p p1 p2 p3 p_k c t_k t\")"
   ]
  },
  {
   "cell_type": "code",
   "execution_count": 52,
   "metadata": {},
   "outputs": [
    {
     "data": {
      "text/latex": [
       "$\\displaystyle - c^{2} \\left(- t + t_{k}\\right)^{2} + \\left|{p - p_{k}}\\right|^{2}$"
      ],
      "text/plain": [
       "-c**2*(-t + t_k)**2 + Abs(p - p_k)**2"
      ]
     },
     "execution_count": 52,
     "metadata": {},
     "output_type": "execute_result"
    }
   ],
   "source": [
    "eq_k=abs(pk-p)**2 - c**2 *( tk - t)**2\n",
    "eq_k"
   ]
  },
  {
   "cell_type": "code",
   "execution_count": null,
   "metadata": {},
   "outputs": [],
   "source": [
    "# then expand the distance\n",
    "# abs(pk-p)^2 = (pk_x-p_x)^2 + (pk_y-p_y)^2\n",
    "#             = pk_x^2 - 2pk_x*p_x + p_x^2 + pk_y^2 -2*pk_y*p_y + p_y^2\n",
    "#             = |pk|^2 + |p|^2 - 2pk^T p\n",
    "# good\n",
    "# arrive at \n",
    "# 2 * Col(q_k^T S q) = Col"
   ]
  },
  {
   "cell_type": "markdown",
   "metadata": {},
   "source": [
    "Arrive at:\n",
    "\n",
    "\n",
    "$$2 Col_k(q_k^T S q) = Col_k ( q_k^T S q_k + v) $$\n",
    "\n",
    "with \n",
    "$$ v= q^T S q $$"
   ]
  },
  {
   "cell_type": "markdown",
   "metadata": {},
   "source": [
    "They then move on to talk about solving this system of equations. I'm a bit unclear\n",
    "on what is proposed here. $v$ is quadratic in the unknowns $(x,y,t)$. The LHS is linear\n",
    "in those unknowns.\n",
    "\n",
    "Left-multiply both sides by the pseudo-inverse of $Col_k(q_k^T S)$ to get $q$ \n",
    "on the left and "
   ]
  }
 ],
 "metadata": {
  "kernelspec": {
   "display_name": "Python 3",
   "language": "python",
   "name": "python3"
  },
  "language_info": {
   "codemirror_mode": {
    "name": "ipython",
    "version": 3
   },
   "file_extension": ".py",
   "mimetype": "text/x-python",
   "name": "python",
   "nbconvert_exporter": "python",
   "pygments_lexer": "ipython3",
   "version": "3.7.3"
  }
 },
 "nbformat": 4,
 "nbformat_minor": 2
}
